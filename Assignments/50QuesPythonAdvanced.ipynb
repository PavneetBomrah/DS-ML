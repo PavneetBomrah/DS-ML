{
 "cells": [
  {
   "cell_type": "code",
   "execution_count": null,
   "id": "1331c21a",
   "metadata": {},
   "outputs": [],
   "source": [
    "#\t26.\tWrite a Python program using a lambda function to square all elements in a list.\n",
    "#\t27.\tCreate a function that returns a list of prime numbers from 1 to 100.\n",
    "#\t28.\tWrite a program to implement a simple calculator using functions.\n",
    "#\t29.\tImplement a recursive function to compute factorial.\n",
    "#\t30.\tCreate a Python program using OOP for student management (class, object, init).\n",
    "#\t31.\tWrite a program to read a file and count the number of lines and words.\n",
    "#\t32.\tWrite a Python decorator to print the execution time of a function.\n",
    "#\t33.\tCreate a class BankAccount with deposit and withdraw methods.\n",
    "#\t34.\tImplement a generator to yield even numbers from 1 to n.\n",
    "#\t35.\tWrite a function using *args and **kwargs to print any number of arguments.\n",
    "#\t36.\tUse list comprehension to create a list of squares of even numbers from 1 to 20.\n",
    "#\t37.\tCreate a function that takes a list and returns only unique elements.\n",
    "#\t38.\tWrite a Python program to merge two dictionaries.\n",
    "#\t39.\tCreate a class that inherits from another class and overrides a method.\n",
    "#\t40.\tWrite a function to find common elements between two lists.\n",
    "#\t41.\tImplement a program to demonstrate try-except-finally for exception handling.\n",
    "#\t42.\tWrite a program to parse and display JSON data from a string.\n",
    "#\t43.\tCreate a class that demonstrates the use of private and protected members.\n",
    "#\t44.\tWrite a Python function to check if a string is a valid email address.\n",
    "#\t45.\tAccept a CSV file and convert it into a list of dictionaries.\n",
    "#\t46.\tCreate a simple login system using dictionary and input.\n",
    "#\t47.\tWrite a function to flatten a nested list using recursion.\n",
    "#\t48.\tDemonstrate use of map(), filter(), and reduce() on a list.\n",
    "#\t49.\tBuild a small CLI app that takes user input and performs basic operations.\n",
    "#\t50.\tCreate a mini Python quiz that takes answers from the user and displays score."
   ]
  },
  {
   "cell_type": "code",
   "execution_count": null,
   "id": "8a0d3802",
   "metadata": {},
   "outputs": [],
   "source": [
    "# 26.\tWrite a Python program using a lambda function to square all elements in a list.\n",
    "print('*'*30)\n",
    "sqr = lambda x: x * x\n",
    "l1 = input(\"Enter the numbers seperated by ','\")\n",
    "l1 = l1.split(',')\n",
    "l1 = list(map(int,l1))\n",
    "\n",
    "print(l1)\n",
    "l1 = list(map(sqr,l1))\n",
    "print(l1)\n",
    "print('*'*30)"
   ]
  },
  {
   "cell_type": "code",
   "execution_count": null,
   "id": "ea307d43",
   "metadata": {},
   "outputs": [],
   "source": [
    "#\t27.\tCreate a function that returns a list of prime numbers from 1 to 100.\n",
    "print('*'*30)\n",
    "def checkPrime(num):\n",
    "    i = 2\n",
    "    while i < num:\n",
    "        if num%i == 0:\n",
    "            return\n",
    "        i+=1\n",
    "    print(f\"{num} \",end=\"\")\n",
    "    return\n",
    "for i in range(1,101):\n",
    "    checkPrime(i)\n",
    "print()\n",
    "print('*'*30)"
   ]
  },
  {
   "cell_type": "code",
   "execution_count": null,
   "id": "d4a16276",
   "metadata": {},
   "outputs": [],
   "source": [
    "#\t28.\tWrite a program to implement a simple calculator using functions.\n",
    "\n",
    "print('*'*30)\n",
    "print(\"\\t\\tCalculator\\n\\n\")\n",
    "choice = 'y'\n",
    "while choice == 'y':\n",
    "    print('*'*30)\n",
    "    num1 = int(input(\"Enter First Number:\"))\n",
    "    print(\"Enter your task to perform (+,-,*,/,'0 to exit'):\")\n",
    "    option = input(\"Enter your choice(+,-,*,/)\")\n",
    "    num2 = int(input(\"Enter Second Number:\"))\n",
    "    list = ['+','-','*','/','0']\n",
    "    if option in list:\n",
    "        match option:\n",
    "            case '+':\n",
    "                choice = 'y'\n",
    "                print(num1,option,num2,\"=\",num1 + num2)\n",
    "            case '-':\n",
    "                choice = 'y'\n",
    "                print(num1,option,num2,\"=\",num1 - num2)\n",
    "            case '*':\n",
    "                choice = 'y'\n",
    "                print(num1,option,num2,\"=\",num1 * num2)\n",
    "            case '/':\n",
    "                choice = 'y'\n",
    "                if num2 != 0: \n",
    "                    print(num1,option,num2,\"=\",num1 / num2)\n",
    "                else:\n",
    "                    print(\"Denominator Can't Be 0\")            \n",
    "    else:\n",
    "        print(\"Invalid Choice retry\")\n",
    "    print('*'*30)\n",
    "    choice = input(\"Continue? (y,n)\")"
   ]
  },
  {
   "cell_type": "code",
   "execution_count": null,
   "id": "d258e6f4",
   "metadata": {},
   "outputs": [],
   "source": [
    "#\t29.\tImplement a recursive function to compute factorial.\n",
    "print('*'*30)\n",
    "def factorial(num):\n",
    "    if num == 1:\n",
    "        return 1\n",
    "    return num * factorial(num-1)\n",
    "print(\"factorial of the number is\",factorial(int(input(\"Enter a number to find it's factorial\"))))\n",
    "print('*'*30)"
   ]
  },
  {
   "cell_type": "code",
   "execution_count": null,
   "id": "b65c834c",
   "metadata": {},
   "outputs": [],
   "source": [
    "#\t30.\tCreate a Python program using OOP for student management (class, object, init).\n",
    "\n",
    "class Student:\n",
    "    def __init__(self,ssid,name,age,phoneNo):\n",
    "        self.ssid=ssid\n",
    "        self.name=name\n",
    "        self.age=age\n",
    "        self.phoneNo=phoneNo\n",
    "    def showDetails(self):\n",
    "        print(f\"\"\"           \n",
    "Student Details:\n",
    "            ssid:{self.ssid}\n",
    "            Name:{self.name}\n",
    "            Age:{self.age}\n",
    "            phoneNo:{self.phoneNo}\n",
    "        \"\"\")\n",
    "students = []\n",
    "\n",
    "students.append(Student(1, \"Pavneet\", 18, 9818932172))\n",
    "students.append(Student(2, \"Aman\", 19, 9876543210))\n",
    "students.append(Student(3, \"Simran\", 17, 9123456789))\n",
    "\n",
    "for student in students:\n",
    "    student.showDetails()\n"
   ]
  },
  {
   "cell_type": "code",
   "execution_count": 4,
   "id": "b219a5e8",
   "metadata": {},
   "outputs": [
    {
     "name": "stdout",
     "output_type": "stream",
     "text": [
      "There are 7 words and 2 lines\n"
     ]
    }
   ],
   "source": [
    "#\t31.\tWrite a program to read a file and count the number of lines and words.\n",
    "f = open(\"./50Ques/Q31.txt\",\"r\")\n",
    "word=1\n",
    "line=1\n",
    "for i in f.read():\n",
    "    if i == \"\\n\":\n",
    "        line+=1\n",
    "        word+=1\n",
    "    if i == \" \":\n",
    "        word+=1\n",
    "print(f\"There are {word} words and {line} lines\")"
   ]
  },
  {
   "cell_type": "code",
   "execution_count": null,
   "id": "7d32cdc3",
   "metadata": {},
   "outputs": [],
   "source": []
  }
 ],
 "metadata": {
  "kernelspec": {
   "display_name": "Python 3",
   "language": "python",
   "name": "python3"
  },
  "language_info": {
   "codemirror_mode": {
    "name": "ipython",
    "version": 3
   },
   "file_extension": ".py",
   "mimetype": "text/x-python",
   "name": "python",
   "nbconvert_exporter": "python",
   "pygments_lexer": "ipython3",
   "version": "3.13.1"
  }
 },
 "nbformat": 4,
 "nbformat_minor": 5
}
