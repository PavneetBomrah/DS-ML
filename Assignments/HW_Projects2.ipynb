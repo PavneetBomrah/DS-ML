{
 "cells": [
  {
   "cell_type": "code",
   "execution_count": 54,
   "id": "7257afe5-db68-4578-8f71-a2110212e652",
   "metadata": {},
   "outputs": [],
   "source": [
    "# Assignment-2\n",
    "\n",
    "# #Other real-world mini-project\n",
    "\n",
    "# 👉 Bus ticket fare calculator (with age-based discount)\n",
    "# 👉 Electricity bill generator (based on units)\n",
    "# 👉 Library fine calculator (based on overdue days)\n",
    "# 👉 Simple login system (with 3 attempts"
   ]
  },
  {
   "cell_type": "code",
   "execution_count": 4,
   "id": "e3f9b1d9-7dc9-4f26-aacd-d34bfae1165c",
   "metadata": {},
   "outputs": [
    {
     "name": "stdin",
     "output_type": "stream",
     "text": [
      "Enter distance: (in km) 68\n",
      "Enter passenger age:  69\n"
     ]
    },
    {
     "name": "stdout",
     "output_type": "stream",
     "text": [
      "Discounted fare: ₹408.0\n"
     ]
    }
   ],
   "source": [
    "#Bus ticket fare calculator\n",
    "distance = float(input(\"Enter distance: (in km)\"))\n",
    "base_fare = distance * 10\n",
    "age = int(input(\"Enter passenger age: \"))\n",
    "\n",
    "if age <= 5:\n",
    "    discount = 9.0  \n",
    "elif age <= 18:\n",
    "    discount = 0.3  \n",
    "elif age >= 60:\n",
    "    discount = 0.4\n",
    "else:\n",
    "    discount = 0.0\n",
    "\n",
    "final_fare = base_fare * (1 - discount)\n",
    "print(f\"Discounted fare: ₹{final_fare}\")"
   ]
  },
  {
   "cell_type": "code",
   "execution_count": 8,
   "id": "dec9b1ae-d75c-4db2-bc04-99b64367ed05",
   "metadata": {},
   "outputs": [
    {
     "name": "stdin",
     "output_type": "stream",
     "text": [
      "Enter electricity units consumed:  560\n"
     ]
    },
    {
     "name": "stdout",
     "output_type": "stream",
     "text": [
      "Total electricity bill: ₹ 2800.0\n"
     ]
    }
   ],
   "source": [
    "#Electricity bill generator\n",
    "units = float(input(\"Enter electricity units consumed: \"))\n",
    "\n",
    "if units <= 100:\n",
    "    rate = 1.5\n",
    "elif units <= 200:\n",
    "    rate = 2.5\n",
    "elif units <= 300:\n",
    "    rate = 4\n",
    "else:\n",
    "    rate = 5\n",
    "\n",
    "total_bill = units * rate\n",
    "print(\"Total electricity bill: ₹\",total_bill)"
   ]
  },
  {
   "cell_type": "code",
   "execution_count": 15,
   "id": "b43690a5-2802-4f1d-9e8a-a602a41cbf93",
   "metadata": {},
   "outputs": [
    {
     "name": "stdin",
     "output_type": "stream",
     "text": [
      "Enter number of overdue days:  69\n"
     ]
    },
    {
     "name": "stdout",
     "output_type": "stream",
     "text": [
      "Library fine: ₹ 625\n"
     ]
    }
   ],
   "source": [
    "#Library fine calculator\n",
    "days = int(input(\"Enter number of overdue days: \"))\n",
    "if days <= 5:\n",
    "    fine = days * 2\n",
    "elif days <= 10:\n",
    "    fine = 5*2 + (days - 5) * 5\n",
    "else:\n",
    "    fine = 5*2 + 5*5 + (days - 10) * 10\n",
    "print(\"Library fine: ₹\",fine)"
   ]
  },
  {
   "cell_type": "code",
   "execution_count": 13,
   "id": "53744749-d455-497a-9d80-5ca228142565",
   "metadata": {},
   "outputs": [
    {
     "name": "stdin",
     "output_type": "stream",
     "text": [
      "Enter username:  admin\n",
      "Enter password:  1\n"
     ]
    },
    {
     "name": "stdout",
     "output_type": "stream",
     "text": [
      "Incorrect credentials! Attempts left:  2\n"
     ]
    },
    {
     "name": "stdin",
     "output_type": "stream",
     "text": [
      "Enter username:  admin\n",
      "Enter password:  2\n"
     ]
    },
    {
     "name": "stdout",
     "output_type": "stream",
     "text": [
      "Incorrect credentials! Attempts left:  1\n"
     ]
    },
    {
     "name": "stdin",
     "output_type": "stream",
     "text": [
      "Enter username:  admin\n",
      "Enter password:  3\n"
     ]
    },
    {
     "name": "stdout",
     "output_type": "stream",
     "text": [
      "Incorrect credentials! Attempts left:  0\n",
      "Account locked due to too many failed attempts.\n"
     ]
    }
   ],
   "source": [
    "#Simple login system\n",
    "USERNAME = \"admin\"\n",
    "PASSWORD = \"1234\"\n",
    "attempts = 3\n",
    "while attempts > 0:\n",
    "    user = input(\"Enter username: \") \n",
    "    pwd = input(\"Enter password: \")\n",
    "\n",
    "    if user == USERNAME and pwd == PASSWORD:\n",
    "        print(\"Login successful!\")\n",
    "        break\n",
    "    else:\n",
    "        attempts -= 1\n",
    "        print(\"Incorrect credentials! Attempts left: \",attempts)\n",
    "if attempts == 0:\n",
    "    print(\"Account locked due to too many failed attempts.\")"
   ]
  }
 ],
 "metadata": {
  "kernelspec": {
   "display_name": "Python 3 (ipykernel)",
   "language": "python",
   "name": "python3"
  },
  "language_info": {
   "codemirror_mode": {
    "name": "ipython",
    "version": 3
   },
   "file_extension": ".py",
   "mimetype": "text/x-python",
   "name": "python",
   "nbconvert_exporter": "python",
   "pygments_lexer": "ipython3",
   "version": "3.13.1"
  }
 },
 "nbformat": 4,
 "nbformat_minor": 5
}
