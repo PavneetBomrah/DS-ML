{
 "cells": [
  {
   "cell_type": "code",
   "execution_count": 1,
   "id": "374696af-b1cd-4624-8f75-a49df2e815fb",
   "metadata": {},
   "outputs": [],
   "source": [
    "# Assignment\n",
    "# #Other minor project with if-else\n",
    "\n",
    "# Here’s a list of quick ideas:\n",
    "# 👉 Grade calculator – Input marks → Output grade (A, B, C, etc.)\n",
    "# 👉 Simple calculator – Choose operation (+, -, *, /) → Output result\n",
    "# 👉 Age checker – Input age → Output whether eligible for voting, driving, etc"
   ]
  },
  {
   "cell_type": "code",
   "execution_count": 2,
   "id": "51dd3905-b47d-4c64-969a-84cecb132eb5",
   "metadata": {},
   "outputs": [
    {
     "name": "stdin",
     "output_type": "stream",
     "text": [
      "Enter your marks 69\n"
     ]
    },
    {
     "name": "stdout",
     "output_type": "stream",
     "text": [
      "Your Grade is :  C\n"
     ]
    }
   ],
   "source": [
    "#Grades Calculator\n",
    "\n",
    "Grades = ['A','B','C','D','E','F']\n",
    "marksRange = [95,85,65,50,33,0]\n",
    "# Grades = ['F','E','D','C','B','A']\n",
    "# marksRange = [0,33,50,65,85,95]\n",
    "# marksRange = marksRange[-1::-1]\n",
    "# Grades = Grades[-1::-1]\n",
    "enteredMarks = int(input(\"Enter your marks\"))\n",
    "for i in marksRange:\n",
    "    if enteredMarks >= i :\n",
    "        print(\"Your Grade is : \",Grades[marksRange.index(i)])\n",
    "        break\n",
    "    else:\n",
    "        continue\n",
    "    "
   ]
  },
  {
   "cell_type": "code",
   "execution_count": 29,
   "id": "44ac9642-7b50-490b-9d36-e2f16c80b03b",
   "metadata": {},
   "outputs": [
    {
     "name": "stdout",
     "output_type": "stream",
     "text": [
      "\t\tCalculator\n",
      "\n",
      "\n",
      "Enter your task to perform (+,-,*,/,'0 to exit'):\n"
     ]
    },
    {
     "name": "stdin",
     "output_type": "stream",
     "text": [
      "Enter First Number: 5\n",
      "Enter your choice(+,-,*,/) +\n",
      "Enter Second Number: 6\n"
     ]
    },
    {
     "name": "stdout",
     "output_type": "stream",
     "text": [
      "5 + 6 = 11\n"
     ]
    },
    {
     "name": "stdin",
     "output_type": "stream",
     "text": [
      "Continue? (y,n) y\n"
     ]
    },
    {
     "name": "stdout",
     "output_type": "stream",
     "text": [
      "Enter your task to perform (+,-,*,/,'0 to exit'):\n"
     ]
    },
    {
     "name": "stdin",
     "output_type": "stream",
     "text": [
      "Enter First Number: 6\n",
      "Enter your choice(+,-,*,/) *\n",
      "Enter Second Number: 9\n"
     ]
    },
    {
     "name": "stdout",
     "output_type": "stream",
     "text": [
      "6 * 9 = 54\n"
     ]
    },
    {
     "name": "stdin",
     "output_type": "stream",
     "text": [
      "Continue? (y,n) n\n"
     ]
    }
   ],
   "source": [
    "#Calculator minor project\n",
    "\n",
    "print(\"\\t\\tCalculator\\n\\n\")\n",
    "choice = 'y'\n",
    "while choice == 'y':\n",
    "    print(\"Enter your task to perform (+,-,*,/,'0 to exit'):\")\n",
    "    num1 = int(input(\"Enter First Number:\"))\n",
    "    option = input(\"Enter your choice(+,-,*,/)\")\n",
    "    num2 = int(input(\"Enter Second Number:\"))\n",
    "    list = ['+','-','*','/','0']\n",
    "    if option in list:\n",
    "        match option:\n",
    "            case '+':\n",
    "                choice = 'y'\n",
    "                print(num1,option,num2,\"=\",num1 + num2)\n",
    "            case '-':\n",
    "                choice = 'y'\n",
    "                print(num1,option,num2,\"=\",num1 - num2)\n",
    "            case '*':\n",
    "                choice = 'y'\n",
    "                print(num1,option,num2,\"=\",num1 * num2)\n",
    "            case '/':\n",
    "                choice = 'y'\n",
    "                if num2 != 0: \n",
    "                    print(num1,option,num2,\"=\",num1 / num2)\n",
    "                else:\n",
    "                    print(\"Denominator Can't Be 0\")            \n",
    "    else:\n",
    "        print(\"Invalid Choice retry\")\n",
    "    choice = input(\"Continue? (y,n)\")\n"
   ]
  },
  {
   "cell_type": "code",
   "execution_count": 1,
   "id": "db131dd5-da11-48de-b0eb-e287c7707e97",
   "metadata": {},
   "outputs": [
    {
     "name": "stdin",
     "output_type": "stream",
     "text": [
      "Enter your Age 69\n"
     ]
    },
    {
     "name": "stdout",
     "output_type": "stream",
     "text": [
      "You are Eligible for Driving\n"
     ]
    }
   ],
   "source": [
    "#Age Checker\n",
    "yourAge =  int(input(\"Enter your Age\"))\n",
    "\n",
    "if(yourAge>=18):\n",
    "    print(\"You are Eligible for Driving\")\n",
    "else:\n",
    "    print(\"You are not Eligible for Driving\")"
   ]
  }
 ],
 "metadata": {
  "kernelspec": {
   "display_name": "Python 3 (ipykernel)",
   "language": "python",
   "name": "python3"
  },
  "language_info": {
   "codemirror_mode": {
    "name": "ipython",
    "version": 3
   },
   "file_extension": ".py",
   "mimetype": "text/x-python",
   "name": "python",
   "nbconvert_exporter": "python",
   "pygments_lexer": "ipython3",
   "version": "3.13.1"
  }
 },
 "nbformat": 4,
 "nbformat_minor": 5
}
