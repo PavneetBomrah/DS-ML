{
 "cells": [
  {
   "cell_type": "code",
   "execution_count": null,
   "id": "07623c38",
   "metadata": {},
   "outputs": [],
   "source": [
    "#   1.\tWrite a Python program to find the largest of three numbers.\n",
    "# \t2.\tCreate a program that checks whether a number is even or odd.\n",
    "# \t3.\tAccept a string from the user and reverse it.\n",
    "# \t4.\tWrite a program to count the number of vowels in a string.\n",
    "# \t5.\tCreate a calculator using if-else (add, subtract, multiply, divide).\n",
    "# \t6.\tWrite a program to check if a number is prime.\n",
    "# \t7.\tDisplay the multiplication table of a given number.\n",
    "# \t8.\tWrite a program to print the Fibonacci series up to n terms.\n",
    "# \t9.\tWrite a program to find the factorial of a number using a loop.\n",
    "# \t10.\tAccept a number and check whether it is a palindrome.\n",
    "# \t11.\tFind the sum of digits of a number using a while loop.\n",
    "# \t12.\tCreate a program to convert Celsius to Fahrenheit.\n",
    "# \t13.\tWrite a Python function to find the maximum of two numbers.\n",
    "# \t14.\tAccept a list of numbers and return the average.\n",
    "# \t15.\tFind the second largest number in a list.\n",
    "# \t16.\tAccept a sentence and count the number of words.\n",
    "# \t17.\tAccept a list and remove all duplicates from it.\n",
    "# \t18.\tWrite a program to create a dictionary from two lists.\n",
    "# \t19.\tAccept a list and sort it without using sort() function.\n",
    "# \t20.\tWrite a function that checks if a string is a pangram.\n",
    "# \t21.\tWrite a function to check if the input is a number or not.\n",
    "# \t22.\tAccept a string and check if it is an anagram of another.\n",
    "# \t23.\tAccept a number and print its binary, octal, and hexadecimal.\n",
    "# \t24.\tAccept a list and print all elements greater than 50.\n",
    "# \t25.\tWrite a function to count uppercase and lowercase letters in a string.\n",
    "#   26.\tWrite a Python program using a lambda function to square all elements in a list.\n",
    "#   27.\tCreate a function that returns a list of prime numbers from 1 to 100.\n",
    "#   28.\tWrite a program to implement a simple calculator using functions.\n",
    "#   29.\tImplement a recursive function to compute factorial.\n",
    "#   30.\tCreate a Python program using OOP for student management (class, object, init).\n",
    "#   31.\tWrite a program to read a file and count the number of lines and words.\n",
    "#   32.\tWrite a Python decorator to print the execution time of a function.\n",
    "#   33.\tCreate a class BankAccount with deposit and withdraw methods.\n",
    "#   34.\tImplement a generator to yield even numbers from 1 to n.\n",
    "#   35.\tWrite a function using *args and **kwargs to print any number of arguments.\n",
    "#   36.\tUse list comprehension to create a list of squares of even numbers from 1 to 20.\n",
    "#   37.\tCreate a function that takes a list and returns only unique elements.\n",
    "#   38.\tWrite a Python program to merge two dictionaries.\n",
    "#   39.\tCreate a class that inherits from another class and overrides a method.\n",
    "#   40.\tWrite a function to find common elements between two lists.\n",
    "#   41.\tImplement a program to demonstrate try-except-finally for exception handling.\n",
    "#   42.\tWrite a program to parse and display JSON data from a string.\n",
    "#   43.\tCreate a class that demonstrates the use of private and protected members.\n",
    "#   44.\tWrite a Python function to check if a string is a valid email address.\n",
    "#   45.\tAccept a CSV file and convert it into a list of dictionaries.\n",
    "#   46.\tCreate a simple login system using dictionary and input.\n",
    "#   47.\tWrite a function to flatten a nested list using recursion.\n",
    "#   48.\tDemonstrate use of map(), filter(), and reduce() on a list.\n",
    "#   49.\tBuild a small CLI app that takes user input and performs basic operations.\n",
    "#   50.\tCreate a mini Python quiz that takes answers from the user and displays score."
   ]
  },
  {
   "cell_type": "code",
   "execution_count": null,
   "id": "30a17c31",
   "metadata": {},
   "outputs": [],
   "source": [
    "#   1.\tWrite a Python program to find the largest of three numbers.\n",
    "print('*'*30)\n",
    "print(\"Enter 3 numbers:\")\n",
    "num1 = int(input(\"Enter 1st Number:\"))\n",
    "num2 = int(input(\"Enter 2nd Number:\"))\n",
    "num3 = int(input(\"Enter 3rd Number:\"))\n",
    "\n",
    "print(\"Numbers Entered: \",num1,num2,num3)\n",
    "if num1 > num2:\n",
    "    if num1 > num3:\n",
    "        print(num1,\"is the largest number\")\n",
    "    else:\n",
    "        print(num3,\"is the largest number\")\n",
    "else:\n",
    "    if num2 > num3:\n",
    "        print(num2,\"is the largest number\")\n",
    "    else:\n",
    "        print(num3,\"is the largest number\")\n",
    "\n",
    "print('*'*30)"
   ]
  },
  {
   "cell_type": "code",
   "execution_count": null,
   "id": "51d17625",
   "metadata": {},
   "outputs": [],
   "source": [
    "# \t2.\tCreate a program that checks whether a number is even or odd.\n",
    "print('*'*30)\n",
    "number = int(input(\"Enter a number to check either the number is even or odd: \"))\n",
    "print(\"Entered Number: \",number)\n",
    "if number%2:\n",
    "    print(number,\"is Odd\")\n",
    "else:\n",
    "    print(number,\"is Even\")\n",
    "print('*'*30)"
   ]
  },
  {
   "cell_type": "code",
   "execution_count": null,
   "id": "bce76694",
   "metadata": {},
   "outputs": [],
   "source": [
    "# \t3.\tAccept a string from the user and reverse it.\n",
    "print('*'*30)\n",
    "string = input(\"Enter a String to check it's reverse: \")\n",
    "rev = string[::-1]\n",
    "print(f\"Reverse of \\n\\\"{string}\\\" is : {rev}\")\n",
    "print('*'*30)\n"
   ]
  },
  {
   "cell_type": "code",
   "execution_count": null,
   "id": "d6389aa1",
   "metadata": {},
   "outputs": [],
   "source": [
    "# \t4.\tWrite a program to count the number of vowels in a string.\n",
    "print('*'*30)\n",
    "count = 0\n",
    "string = input(\"Enter a String to count it's vowels: \")\n",
    "for i in string:\n",
    "    if i=='a' or i=='e' or i=='i' or i=='o' or i=='u':\n",
    "        count += 1\n",
    "print(f\"There are {count} vowels in {string}\")\n",
    "print('*'*30)\n",
    "\n"
   ]
  },
  {
   "cell_type": "code",
   "execution_count": null,
   "id": "ac4c0d13",
   "metadata": {},
   "outputs": [],
   "source": [
    "# \t5.\tCreate a calculator using if-else (add, subtract, multiply, divide).\n",
    "\n",
    "print('*'*30)\n",
    "while True:\n",
    "    expression = input(\"Enter a Task to Perform eg:(10 + 20)\\n\")\n",
    "    if expression != 'exit':\n",
    "        [n1,e,n2] = expression.split(' ')\n",
    "\n",
    "        if expression:    \n",
    "            if e == '+':\n",
    "                print(expression,'=',int(n1)+int(n2))\n",
    "            elif e == '-':\n",
    "                print(expression,'=',int(n1)-int(n2))\n",
    "            elif e == '*':\n",
    "                print(expression,'=',int(n1)*int(n2))\n",
    "            elif e == '/':\n",
    "                print(expression,'=',int(n1)/int(n2))\n",
    "    \n",
    "    else:\n",
    "        break\n",
    "print('*'*30)"
   ]
  },
  {
   "cell_type": "code",
   "execution_count": null,
   "id": "ca712bf3",
   "metadata": {},
   "outputs": [],
   "source": [
    "# \t6.\tWrite a program to check if a number is prime.\n",
    "print('*'*30)\n",
    "n = int(input(\"Enter a number to check whether it is Prime or Not\"))\n",
    "def checkPrime(num):\n",
    "    i = 2\n",
    "    while i < num:\n",
    "        if num%i == 0:\n",
    "            print(f'{num} is not prime')\n",
    "            return\n",
    "        i+=1\n",
    "    print(f\"{num} is prime\")\n",
    "    return\n",
    "checkPrime(n)\n",
    "print('*'*30)"
   ]
  },
  {
   "cell_type": "code",
   "execution_count": null,
   "id": "db98ebaa",
   "metadata": {},
   "outputs": [],
   "source": [
    "# \t7.\tDisplay the multiplication table of a given number.\n",
    "print('*'*30)\n",
    "n = int(input(\"Enter a number print it's table\"))\n",
    "for i in range(1,11):\n",
    "    print(f\"{n} * {i} = {i*n}\")\n",
    "\n",
    "print('*'*30)"
   ]
  },
  {
   "cell_type": "code",
   "execution_count": null,
   "id": "04b06598",
   "metadata": {},
   "outputs": [],
   "source": [
    "# \t8.\tWrite a program to print the Fibonacci series up to n terms.\n",
    "def fabo(iterate,n=0,m=1,current=1):\n",
    "    if current <= iterate:\n",
    "        if current == 1:\n",
    "            print(\"0 \",end=\"\")\n",
    "            fabo(iterate,n,m,current+1)\n",
    "        elif current == 2:\n",
    "            print(\"1 \",end=\"\")\n",
    "            fabo(iterate,n,m,current+1)\n",
    "        else:\n",
    "            print(f\"{n+m} \",end=\"\")\n",
    "            fabo(iterate,m,n+m,current+1)\n",
    "    return\n",
    "print('*'*30)\n",
    "iterations = int(input(\"Enter n to print the Fibonacci series up to n terms\"))\n",
    "print(f\"Fabonacci Series up to {iterations} terms:\")\n",
    "fabo(iterations)\n",
    "print()\n",
    "print('*'*30)"
   ]
  },
  {
   "cell_type": "code",
   "execution_count": null,
   "id": "bfa54f3e",
   "metadata": {},
   "outputs": [],
   "source": [
    "# \t9.\tWrite a program to find the factorial of a number using a loop.\n",
    "print('*'*30)\n",
    "number = int(input(\"Enter a number to find it's factorial\"))\n",
    "factorial = 1\n",
    "for i in range(1,number+1):\n",
    "    factorial*=i\n",
    "print(f\"Factorial of {number} is {factorial}\")\n",
    "print('*'*30)"
   ]
  },
  {
   "cell_type": "code",
   "execution_count": null,
   "id": "13cb0b5f",
   "metadata": {},
   "outputs": [],
   "source": [
    "# \t10.\tAccept a number and check whether it is a palindrome.\n",
    "print('*'*30)\n",
    "num = int(input(\"Enter a number to check whether it is palendrome or not\"))\n",
    "numstr=str(num)\n",
    "if numstr == numstr[::-1]:\n",
    "    print(f\"{numstr} is a palendrome\")\n",
    "else:\n",
    "    print(f\"{numstr} is not a palendrome\")\n",
    "print('*'*30)"
   ]
  },
  {
   "cell_type": "code",
   "execution_count": null,
   "id": "b8984ea0",
   "metadata": {},
   "outputs": [],
   "source": [
    "# \t11.\tFind the sum of digits of a number using a while loop.\n",
    "print('*'*30)\n",
    "num = int(input(\"Enter a number to Find the sum of digits of a number\"))\n",
    "numstr=str(num)\n",
    "total = 0\n",
    "for i in numstr:\n",
    "    total+=int(i)\n",
    "print(f\"The sum of digits of {num} is {total}\")\n",
    "print('*'*30)"
   ]
  },
  {
   "cell_type": "code",
   "execution_count": null,
   "id": "a279f4b2",
   "metadata": {},
   "outputs": [],
   "source": [
    "# \t12.\tCreate a program to convert Celsius to Fahrenheit.\n",
    "print('*'*30)\n",
    "c = float(input(\"Enter the temprature in Celsius\"))\n",
    "print(f\"{c}°C = {(c * 9/5) + 32}°F\")\n",
    "print('*'*30)"
   ]
  },
  {
   "cell_type": "code",
   "execution_count": null,
   "id": "8e6860a3",
   "metadata": {},
   "outputs": [],
   "source": [
    "# \t13.\tWrite a Python function to find the maximum of two numbers."
   ]
  },
  {
   "cell_type": "code",
   "execution_count": null,
   "id": "513a3382",
   "metadata": {},
   "outputs": [],
   "source": [
    "# \t14.\tAccept a list of numbers and return the average.\n",
    "numbers = input(\"Enter a list of numbers seperated by ',' to find their average\")\n",
    "nums = []\n",
    "for i in numbers.split(','):\n",
    "    nums.append(int(i))\n",
    "total = 0\n",
    "for i in nums:\n",
    "    total += i\n",
    "print(f\"Average of {nums} = {total/len(nums)}\")"
   ]
  },
  {
   "cell_type": "code",
   "execution_count": 57,
   "id": "3ebfae90",
   "metadata": {},
   "outputs": [
    {
     "name": "stdout",
     "output_type": "stream",
     "text": [
      "[1, 23, 5]\n"
     ]
    }
   ],
   "source": [
    "# \t15.\tFind the second largest number in a list.\n",
    "numbers = input(\"Enter a list of numbers seperated by ',' to find their average\")\n",
    "nums = numbers.split(',')\n",
    "nums = [int(num) for num in nums]\n",
    "print(nums)"
   ]
  },
  {
   "cell_type": "code",
   "execution_count": null,
   "id": "2efca1d2",
   "metadata": {},
   "outputs": [],
   "source": [
    "\n",
    "# \t16.\tAccept a sentence and count the number of words.\n",
    "# \t17.\tAccept a list and remove all duplicates from it.\n",
    "# \t18.\tWrite a program to create a dictionary from two lists.\n",
    "# \t19.\tAccept a list and sort it without using sort() function.\n",
    "# \t20.\tWrite a function that checks if a string is a pangram.\n",
    "# \t21.\tWrite a function to check if the input is a number or not.\n",
    "# \t22.\tAccept a string and check if it is an anagram of another.\n",
    "# \t23.\tAccept a number and print its binary, octal, and hexadecimal.\n",
    "# \t24.\tAccept a list and print all elements greater than 50.\n",
    "# \t25.\tWrite a function to count uppercase and lowercase letters in a string."
   ]
  }
 ],
 "metadata": {
  "kernelspec": {
   "display_name": "Python 3",
   "language": "python",
   "name": "python3"
  },
  "language_info": {
   "codemirror_mode": {
    "name": "ipython",
    "version": 3
   },
   "file_extension": ".py",
   "mimetype": "text/x-python",
   "name": "python",
   "nbconvert_exporter": "python",
   "pygments_lexer": "ipython3",
   "version": "3.13.1"
  }
 },
 "nbformat": 4,
 "nbformat_minor": 5
}
