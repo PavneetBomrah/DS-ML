{
 "cells": [
  {
   "cell_type": "code",
   "execution_count": 1,
   "id": "f47219e9-9ffb-483a-ae83-3a6a99119794",
   "metadata": {},
   "outputs": [
    {
     "name": "stdout",
     "output_type": "stream",
     "text": [
      "2361540252144\n",
      "2361528630720\n"
     ]
    }
   ],
   "source": [
    "time='hi9 all this raman'\n",
    "print(id(time))\n",
    "a=time\n",
    "a+=('and rahul')\n",
    "print(id(a))"
   ]
  },
  {
   "cell_type": "code",
   "execution_count": 6,
   "id": "7e84f298-1c6c-402d-8cff-4f3ca7dbd4d1",
   "metadata": {},
   "outputs": [
    {
     "name": "stdout",
     "output_type": "stream",
     "text": [
      "pavneet\n"
     ]
    }
   ],
   "source": [
    "#list\n",
    "t=[]#this is an empty list , List allow multiple data type\n",
    "#eg:\n",
    "lst = [1,2,3,'pavneet',10.4]\n",
    "\n",
    "print(lst[3])\n",
    "print(lst[3])\n"
   ]
  },
  {
   "cell_type": "code",
   "execution_count": 20,
   "id": "8ea86002-6d65-4226-befc-08bb9977bbb6",
   "metadata": {},
   "outputs": [
    {
     "name": "stdout",
     "output_type": "stream",
     "text": [
      "a:  krsna\n",
      "b:  56\n",
      "c:  error\n"
     ]
    }
   ],
   "source": [
    "a = [[],[[[],[[],[34,'ansrk']]]]]\n",
    "# krsna\n",
    "\n",
    "\n",
    "b = [[23,[[],[],[[[[],[],[[34,56,89]]]]]]]]\n",
    "# 56\n",
    "\n",
    "c = ['Syntax','found',[[[[34,43,43]],[[],['Nice','error']]]]]\n",
    "#error\n",
    "\n",
    "print('a: ',a[1][0][1][1][1][-1::-1])\n",
    "\n",
    "print('b: ',b[0][1][2][0][0][2][0][1]) \n",
    "\n",
    "print('c: ',c[2][0][1][1][1])"
   ]
  },
  {
   "cell_type": "code",
   "execution_count": 21,
   "id": "294a3e37-1ca8-4404-90b3-de0fd96ae679",
   "metadata": {},
   "outputs": [
    {
     "ename": "NameError",
     "evalue": "name 'Ordered' is not defined",
     "output_type": "error",
     "traceback": [
      "\u001b[31m---------------------------------------------------------------------------\u001b[39m",
      "\u001b[31mNameError\u001b[39m                                 Traceback (most recent call last)",
      "\u001b[36mCell\u001b[39m\u001b[36m \u001b[39m\u001b[32mIn[21]\u001b[39m\u001b[32m, line 2\u001b[39m\n\u001b[32m      1\u001b[39m \u001b[38;5;66;03m#dir('list')\u001b[39;00m\n\u001b[32m----> \u001b[39m\u001b[32m2\u001b[39m \u001b[43mOrdered\u001b[49m\n",
      "\u001b[31mNameError\u001b[39m: name 'Ordered' is not defined"
     ]
    }
   ],
   "source": [
    "#dir('list')\n",
    "# Ordered\n",
    "# Mutable\n",
    "# Allows duplicates\n",
    "# elements index"
   ]
  },
  {
   "cell_type": "code",
   "execution_count": 1,
   "id": "dab7542b-131d-45c0-b4df-325aa27babf3",
   "metadata": {},
   "outputs": [
    {
     "name": "stdout",
     "output_type": "stream",
     "text": [
      "classs=['a','c','d']\n",
      " ['a', 'a', 'a', 'a', 'c', 'd']\n",
      "append('e')\n",
      " ['a', 'a', 'a', 'a', 'c', 'd', 'e'] //After Append\n",
      "insert(4,'b')\n",
      " ['a', 'a', 'a', 'a', 'b', 'c', 'd', 'e'] //After Insert\n",
      "c2=['f','g']\n",
      "extend(c2)\n",
      " ['a', 'a', 'a', 'a', 'b', 'c', 'd', 'e', 'f', 'g'] //After Extend\n",
      "pop(-3)\n",
      " ['a', 'a', 'a', 'a', 'b', 'c', 'd', 'f', 'g'] //After Pop\n",
      "count(1)\n",
      " 4 //Count Result\n"
     ]
    }
   ],
   "source": [
    "classs=['a','a','a','a','c','d']\n",
    "print('classs=[\\'a\\',\\'c\\',\\'d\\']\\n',classs)\n",
    "classs.append('e')\n",
    "print(\"append('e')\\n\",classs,'//After Append')\n",
    "classs.insert(4,'b')\n",
    "print(\"insert(4,'b')\\n\",classs,'//After Insert')\n",
    "c2=['f','g']\n",
    "classs.extend(c2)\n",
    "print(\"c2=['f','g']\\nextend(c2)\\n\",classs,'//After Extend')\n",
    "classs.pop(-3)\n",
    "print(\"pop(-3)\\n\",classs,'//After Pop')\n",
    "print(\"count(1)\\n\",classs.count('a'),'//Count Result')\n"
   ]
  },
  {
   "cell_type": "code",
   "execution_count": 12,
   "id": "ce62970d-7bf0-4441-a231-4be2365e8e13",
   "metadata": {},
   "outputs": [
    {
     "name": "stdout",
     "output_type": "stream",
     "text": [
      "89\n",
      "type[75]\n"
     ]
    }
   ],
   "source": [
    "a=[1,2,77,4,5]\n",
    "sum = 0\n",
    "for i in a:\n",
    "    sum += i\n",
    "print(sum)\n",
    "\n",
    "d=[45,75,[[]],[]]\n",
    "\n",
    "print(type[d[1]])"
   ]
  },
  {
   "cell_type": "code",
   "execution_count": 32,
   "id": "0d987fc3-efe3-4a2d-9c3e-e641f64a5689",
   "metadata": {},
   "outputs": [
    {
     "name": "stdout",
     "output_type": "stream",
     "text": [
      "Poses of alphabets in ordering:\n",
      "\n",
      "H  ->  7\n",
      "e  ->  4\n",
      "l  ->  11\n",
      "l  ->  11\n",
      "o  ->  14\n"
     ]
    }
   ],
   "source": [
    "alphabets = list('abcdefghijklmnopqrstuvwxyz')\n",
    "text = \"Hello\"\n",
    "print(\"Poses of alphabets in ordering:\\n\")\n",
    "for i in text:\n",
    "    letter = alphabets.index(i.lower())\n",
    "    print(i,\" -> \",alphabets.index(i.lower()))"
   ]
  },
  {
   "cell_type": "code",
   "execution_count": 33,
   "id": "cbeb564c-0eb5-4a4c-b145-b474093502f2",
   "metadata": {},
   "outputs": [
    {
     "name": "stdout",
     "output_type": "stream",
     "text": [
      "Enter a number to find it's table 5\n"
     ]
    },
    {
     "name": "stdout",
     "output_type": "stream",
     "text": [
      "5 * 1 = 5\n",
      "5 * 2 = 10\n",
      "5 * 3 = 15\n",
      "5 * 4 = 20\n",
      "5 * 5 = 25\n",
      "5 * 6 = 30\n",
      "5 * 7 = 35\n",
      "5 * 8 = 40\n",
      "5 * 9 = 45\n",
      "5 * 10 = 50\n"
     ]
    }
   ],
   "source": [
    "number = int(input(\"Enter a number to find it's table\"))\n",
    "\n",
    "for i in range(1,11):\n",
    "    print(number,\"*\",i,\"=\",i*number)\n",
    "    "
   ]
  },
  {
   "cell_type": "code",
   "execution_count": 2,
   "id": "b09207b4-1b80-4489-8873-de995fe5ec87",
   "metadata": {},
   "outputs": [
    {
     "name": "stdout",
     "output_type": "stream",
     "text": [
      "hello\n",
      "hii pavi\n",
      "hii pavneet\n",
      "Hola Amigo\n",
      "hii pavneet\n",
      "Bacche Ka Baapu\n",
      "I'm just a Baby...\n"
     ]
    }
   ],
   "source": [
    "#Functions\n",
    "def abc():\n",
    "    #non parameterised\n",
    "    print(\"hello\")\n",
    "def bca(name):\n",
    "    #parameterised\n",
    "    print(\"hii\",name)\n",
    "def cab(name=\"pavneet\"):\n",
    "    #default parameterised\n",
    "    print(\"hii\",name)\n",
    "def cba():\n",
    "    print(\"Hola Amigo\")\n",
    "    cab()\n",
    "abc()\n",
    "bca(\"pavi\")\n",
    "cab()\n",
    "cba()\n",
    "\n",
    "#nested Functions\n",
    "def parent():\n",
    "    print(\"Bacche Ka Baapu\")\n",
    "    def child():\n",
    "        print(\"I'm just a Baby...\")\n",
    "    return child()\n",
    "\n",
    "parent()\n"
   ]
  },
  {
   "cell_type": "code",
   "execution_count": 11,
   "id": "59df77b8-9a33-4912-8ab3-bcbe0f832321",
   "metadata": {
    "scrolled": true
   },
   "outputs": [
    {
     "name": "stdout",
     "output_type": "stream",
     "text": [
      "name: pavneet\n",
      "age: 18\n"
     ]
    }
   ],
   "source": [
    "#keyword argument\n",
    "#aah(name=\"hola\",age=\"10\")\n",
    "\n",
    "#arbitary arguments(*args) stores multiple values\n",
    "#arbitary keyword arguments(**kargs)\n",
    "def profile(**info):\n",
    "    for key,value in info.items():\n",
    "        print(f\"{key}: {value}\")\n",
    "\n",
    "profile(name=\"pavneet\",age=18)"
   ]
  },
  {
   "cell_type": "code",
   "execution_count": 62,
   "id": "c63f3f55-b391-4383-bb71-8874fcf6a534",
   "metadata": {},
   "outputs": [
    {
     "data": {
      "text/plain": [
       "18"
      ]
     },
     "execution_count": 62,
     "metadata": {},
     "output_type": "execute_result"
    }
   ],
   "source": [
    "#r - read\n",
    "#w - write\n",
    "#a - append\n",
    "#x - file exist?\n",
    "a=open(r'C:\\Users\\pavne\\Desktop\\Coding\\DSaML\\testFile.txt','w')\n",
    "a.write('\\nYe karke dikhaooo')"
   ]
  },
  {
   "cell_type": "code",
   "execution_count": null,
   "id": "baa9fac2",
   "metadata": {},
   "outputs": [
    {
     "name": "stdout",
     "output_type": "stream",
     "text": [
      "[10, 'Raman', 23.2, 6969]\n",
      "(10, 'Raman', 23.2, 6969)\n",
      "10,{10, 20, 30}\n",
      "20,{10, 20, 30}\n",
      "30,{10, 20, 30}\n"
     ]
    }
   ],
   "source": [
    "#tuple\n",
    "# allow duplicates\n",
    "# methods\n",
    "# count\n",
    "# index\n",
    "a=(10,'Raman',23.2)\n",
    "# a = [] list\n",
    "    # mutable\n",
    "    # allow duplicate\n",
    "# a = () tuple \n",
    "    # immutable\n",
    "    # allow duplicate\n",
    "# a = {}  set \n",
    "    # mutable\n",
    "    # dont allow duplicate\n",
    "    # methods\n",
    "        # add (add element random pose)\n",
    "        # remove (remove element)\n",
    "        # discard (no error if not found)\n",
    "        # pop (remove random)\n",
    "        # clear (remove all elements)\n",
    "#typecasting to list\n",
    "t=list(a)\n",
    "t.append(6969)\n",
    "print(t)\n",
    "print(tuple(t))\n",
    "\n",
    "s = {10,20,20,30}\n",
    "for i in s:\n",
    "    print(f'{i}')"
   ]
  },
  {
   "cell_type": "code",
   "execution_count": 11,
   "id": "c717434b-aa74-46d5-88a8-f39a7626e4a2",
   "metadata": {},
   "outputs": [],
   "source": [
    "##empty data type\n",
    "# a=''\n",
    "# b=[]\n",
    "# c=()\n",
    "# d=set()"
   ]
  },
  {
   "cell_type": "code",
   "execution_count": 6,
   "id": "7fed6128-2eb4-485d-8c16-431d914446b2",
   "metadata": {},
   "outputs": [
    {
     "name": "stdout",
     "output_type": "stream",
     "text": [
      "Pavi\n",
      "[18, 19, 5]\n",
      "{'name': ['Pavi', 'Vampire', 'Baandari', 'Dodo']}\n"
     ]
    }
   ],
   "source": [
    "#dictionary\n",
    "g={'name':[\"Pavi\",\"Vampire\",\"Baandari\",\"Dodo\"],'age':[18,19,5]}\n",
    "# print(g)\n",
    "print(g['name'][0])\n",
    "#get('class')\n",
    "# update('class':1)\n",
    "# key()\n",
    "# values()\n",
    "print(g.pop('age'))\n",
    "print(g)\n"
   ]
  },
  {
   "cell_type": "code",
   "execution_count": 29,
   "id": "a640d9fd-5105-4104-bead-a86adffb3132",
   "metadata": {},
   "outputs": [
    {
     "name": "stdout",
     "output_type": "stream",
     "text": [
      "Enter value 669\n"
     ]
    },
    {
     "name": "stdout",
     "output_type": "stream",
     "text": [
      "669\n",
      "Nice Input\n",
      "Code Executed\n"
     ]
    }
   ],
   "source": [
    "try:\n",
    "    ab=int(input(\"Enter value\"))\n",
    "    print(ab)\n",
    "except ValueError:\n",
    "    print(\"Enter Int Value\")\n",
    "else:\n",
    "    print(\"Nice Input\")\n",
    "finally:\n",
    "    print(\"Code Executed\")"
   ]
  },
  {
   "cell_type": "code",
   "execution_count": 7,
   "id": "13b58f35-e881-4a63-bacf-117ff8adc475",
   "metadata": {},
   "outputs": [
    {
     "name": "stdout",
     "output_type": "stream",
     "text": [
      "Pavneet Pavi\n"
     ]
    }
   ],
   "source": [
    "class Person:\n",
    "    #constructor function with __init__ means constructor:\n",
    "    # when we create the object of class constructor automatically calls and runs    \n",
    "    def __init__(self,name,age): \n",
    "        self.name = name\n",
    "        self.age = age\n",
    "\n",
    "p1 = Person(\"Pavneet\",18)\n",
    "p2 = Person(\"Pavi\",18)\n",
    "print(p1.name,p2.name)\n",
    "#self = this\n",
    "#always there in first param of a method in an object\n"
   ]
  },
  {
   "cell_type": "code",
   "execution_count": 8,
   "id": "ec79b736",
   "metadata": {},
   "outputs": [
    {
     "ename": "ModuleNotFoundError",
     "evalue": "No module named 'mysql'",
     "output_type": "error",
     "traceback": [
      "\u001b[31m---------------------------------------------------------------------------\u001b[39m",
      "\u001b[31mModuleNotFoundError\u001b[39m                       Traceback (most recent call last)",
      "\u001b[36mCell\u001b[39m\u001b[36m \u001b[39m\u001b[32mIn[8]\u001b[39m\u001b[32m, line 2\u001b[39m\n\u001b[32m      1\u001b[39m \u001b[38;5;66;03m#database handling\u001b[39;00m\n\u001b[32m----> \u001b[39m\u001b[32m2\u001b[39m \u001b[38;5;28;01mimport\u001b[39;00m\u001b[38;5;250m \u001b[39m\u001b[34;01mmysql\u001b[39;00m\u001b[34;01m.\u001b[39;00m\u001b[34;01mconnector\u001b[39;00m\n\u001b[32m      4\u001b[39m mydb = mysql.connector.connect(\n\u001b[32m      5\u001b[39m     host = \u001b[33m'\u001b[39m\u001b[33mlocalhost\u001b[39m\u001b[33m'\u001b[39m,\n\u001b[32m      6\u001b[39m     user = \u001b[33m'\u001b[39m\u001b[33mroot\u001b[39m\u001b[33m'\u001b[39m,\n\u001b[32m      7\u001b[39m     password = \u001b[33m'\u001b[39m\u001b[33mroot\u001b[39m\u001b[33m'\u001b[39m\n\u001b[32m      8\u001b[39m )\n\u001b[32m      9\u001b[39m myCursor = mydb.cursor()\n",
      "\u001b[31mModuleNotFoundError\u001b[39m: No module named 'mysql'"
     ]
    }
   ],
   "source": [
    "#database handling\n",
    "import mysql.connector\n",
    "\n",
    "mydb = mysql.connector.connect(\n",
    "    host = 'localhost',\n",
    "    user = 'root',\n",
    "    password = 'root'\n",
    ")\n",
    "myCursor = mydb.cursor()\n",
    "myCursor.execute(\"CREATE DATABASE CREATEDINPY\")\n",
    "\n",
    "\n"
   ]
  },
  {
   "cell_type": "code",
   "execution_count": null,
   "id": "90835cea",
   "metadata": {},
   "outputs": [
    {
     "name": "stdout",
     "output_type": "stream",
     "text": [
      "2\n",
      "(3, 3)\n",
      "9\n",
      "int64\n",
      "8\n"
     ]
    }
   ],
   "source": [
    "import numpy as lelopodinaahhh\n",
    "\n",
    "a=lelopodinaahhh.array([[1,2,4],[4,3,1],[3,1,2]])\n",
    "\n",
    "print(a.ndim)\n",
    "print(a.shape)\n",
    "print(a.size)\n",
    "print(a.dtype)\n",
    "print(a.itemsize)\n"
   ]
  },
  {
   "cell_type": "code",
   "execution_count": 1,
   "id": "1251aab7",
   "metadata": {},
   "outputs": [
    {
     "name": "stdout",
     "output_type": "stream",
     "text": [
      "21\n",
      "[8 6 7]\n",
      "[7 8 6]\n",
      "1\n",
      "4\n",
      "2.3333333333333335\n",
      "1.1547005383792515\n"
     ]
    }
   ],
   "source": [
    "import numpy as lelopodinaahhh\n",
    "\n",
    "a=lelopodinaahhh.array([[1,2,4],[4,3,1],[3,1,2]])\n",
    "\n",
    "print(a.sum())\n",
    "print(a.sum(axis=0))\n",
    "print(a.sum(axis=1))\n",
    "\n",
    "print(a.min())\n",
    "print(a.max())\n",
    "print(a.mean())\n",
    "print(a.std())\n",
    "\n"
   ]
  },
  {
   "cell_type": "code",
   "execution_count": 54,
   "id": "3cbcc3cb-a890-4151-ad83-d1bdef3e9eba",
   "metadata": {},
   "outputs": [
    {
     "name": "stdout",
     "output_type": "stream",
     "text": [
      "******************************\n",
      "      name   class   age  marks\n",
      "0  pavneet      12  18.0     98\n",
      "1  vampire      12  18.0    100\n",
      "2     dodo      11  17.0     78\n",
      "3  baandri  anpadh   NaN   -100\n",
      "******************************\n",
      "    name  class    age  marks\n",
      "0  False  False  False  False\n",
      "1  False  False  False  False\n",
      "2  False  False  False  False\n",
      "3  False  False   True  False\n",
      "******************************\n",
      "      name   class   age  marks\n",
      "0  pavneet      12  18.0     98\n",
      "1  vampire      12  18.0    100\n",
      "2     dodo      11  17.0     78\n",
      "3  baandri  anpadh   -69   -100\n",
      "******************************\n",
      "      name class   age  marks\n",
      "0  pavneet    12  18.0     98\n",
      "1  vampire    12  18.0    100\n",
      "2     dodo    11  17.0     78\n",
      "******************************\n",
      "176\n",
      "44.0\n",
      "100\n",
      "-100\n"
     ]
    }
   ],
   "source": [
    "import pandas as pandass\n",
    "import csv\n",
    "\n",
    "mycsv = pandass.read_csv(r\"C:\\Users\\pavne\\Desktop\\Coding\\DSaML\\panda.csv\")\n",
    "print('*'*30)\n",
    "print(mycsv)\n",
    "print('*'*30)\n",
    "print(mycsv.isnull())\n",
    "print('*'*30)\n",
    "print(mycsv.fillna(\"-69\"))\n",
    "print('*'*30)\n",
    "print(mycsv.dropna())\n",
    "print('*'*30)\n",
    "\n",
    "df = pandass.DataFrame(mycsv)\n",
    "\n",
    "\n",
    "print(df['marks'].sum())\n",
    "print(df['marks'].mean())\n",
    "print(df['marks'].max())\n",
    "print(df['marks'].min())\n"
   ]
  },
  {
   "cell_type": "code",
   "execution_count": 56,
   "id": "6a574332-bcaa-46b7-96eb-c5f668f21a64",
   "metadata": {},
   "outputs": [],
   "source": [
    "import matplotlib.pyplot as plt"
   ]
  }
 ],
 "metadata": {
  "kernelspec": {
   "display_name": "Python 3",
   "language": "python",
   "name": "python3"
  },
  "language_info": {
   "codemirror_mode": {
    "name": "ipython",
    "version": 3
   },
   "file_extension": ".py",
   "mimetype": "text/x-python",
   "name": "python",
   "nbconvert_exporter": "python",
   "pygments_lexer": "ipython3",
   "version": "3.13.1"
  }
 },
 "nbformat": 4,
 "nbformat_minor": 5
}
