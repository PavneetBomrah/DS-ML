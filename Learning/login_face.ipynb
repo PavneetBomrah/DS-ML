{
  "cells": [
    {
      "cell_type": "code",
      "execution_count": null,
      "metadata": {
        "colab": {
          "base_uri": "https://localhost:8080/"
        },
        "id": "2WSys8-Q2rNn",
        "outputId": "690e5e23-618f-4328-ba9a-8df8113f96ca"
      },
      "outputs": [],
      "source": [
        "!pip install deepface opencv-python\n",
        "import os\n",
        "from PIL import Image\n",
        "from deepface import DeepFace\n",
        "from IPython.display import display, Javascript\n",
        "from google.colab.output import eval_js\n",
        "from base64 import b64decode\n",
        "\n",
        "# Create folder to store registered faces\n",
        "os.makedirs(\"user_faces\", exist_ok=True)\n"
      ]
    },
    {
      "cell_type": "code",
      "execution_count": null,
      "metadata": {
        "id": "RL35kj3f2sN3"
      },
      "outputs": [],
      "source": [
        "def capture_photo(filename=\"captured.jpg\"):\n",
        "    js = Javascript('''\n",
        "    async function takePhoto() {\n",
        "        const div = document.createElement('div');\n",
        "        const capture = document.createElement('button');\n",
        "        capture.textContent = '📸 Capture Photo';\n",
        "        div.appendChild(capture);\n",
        "\n",
        "        const video = document.createElement('video');\n",
        "        video.style.display = 'block';\n",
        "        const stream = await navigator.mediaDevices.getUserMedia({ video: true });\n",
        "\n",
        "        document.body.appendChild(div);\n",
        "        div.appendChild(video);\n",
        "        video.srcObject = stream;\n",
        "        await video.play();\n",
        "\n",
        "        google.colab.output.setIframeHeight(document.documentElement.scrollHeight, true);\n",
        "\n",
        "        await new Promise((resolve) => capture.onclick = resolve);\n",
        "\n",
        "        const canvas = document.createElement('canvas');\n",
        "        canvas.width = video.videoWidth;\n",
        "        canvas.height = video.videoHeight;\n",
        "        canvas.getContext('2d').drawImage(video, 0, 0);\n",
        "\n",
        "        stream.getTracks().forEach(track => track.stop());\n",
        "        div.remove();\n",
        "\n",
        "        return canvas.toDataURL('image/jpeg');\n",
        "    }\n",
        "    ''')\n",
        "\n",
        "    display(js)\n",
        "    data = eval_js(\"takePhoto()\")\n",
        "\n",
        "    binary = b64decode(data.split(',')[1])\n",
        "    with open(filename, 'wb') as f:\n",
        "        f.write(binary)\n",
        "    return filename\n"
      ]
    },
    {
      "cell_type": "code",
      "execution_count": null,
      "metadata": {
        "colab": {
          "base_uri": "https://localhost:8080/",
          "height": 532
        },
        "id": "jII7Zw1O201K",
        "outputId": "ac5afeda-84b7-47f4-f00c-fad60a97a6ac"
      },
      "outputs": [],
      "source": [
        "filename = capture_photo(\"register.jpg\")\n",
        "name = input(\"Enter your name to register: \")\n",
        "os.rename(\"register.jpg\", f\"user_faces/{name}.jpg\")\n",
        "print(f\"✅ Face registered as {name}\")\n",
        "display(Image.open(f\"user_faces/{name}.jpg\"))\n"
      ]
    },
    {
      "cell_type": "code",
      "execution_count": null,
      "metadata": {
        "colab": {
          "base_uri": "https://localhost:8080/",
          "height": 34
        },
        "id": "lR0iZgh523yY",
        "outputId": "f34143ff-b4a8-47d9-e0f6-52b490640258"
      },
      "outputs": [],
      "source": [
        "filename = capture_photo(\"login.jpg\")\n",
        "matched = False\n",
        "\n",
        "for reg_user in os.listdir(\"user_faces\"):\n",
        "    result = DeepFace.verify(\n",
        "        img1_path=\"login.jpg\",\n",
        "        img2_path=os.path.join(\"user_faces\", reg_user),\n",
        "        enforce_detection=False,\n",
        "        model_name='Facenet',  # Fast + accurate\n",
        "        detector_backend='opencv'  # Light detector\n",
        "    )\n",
        "\n",
        "    if result[\"verified\"]:\n",
        "        print(f\"✅ Login successful! Welcome, {os.path.splitext(reg_user)[0]} 🎉\")\n",
        "        display(Image.open(\"login.jpg\"))\n",
        "        matched = True\n",
        "        break\n",
        "\n",
        "if not matched:\n",
        "    print(\"❌ Face not recognized. Access denied.\")\n"
      ]
    },
    {
      "cell_type": "code",
      "execution_count": null,
      "metadata": {
        "id": "AiJKwrMl2-io"
      },
      "outputs": [],
      "source": []
    }
  ],
  "metadata": {
    "colab": {
      "provenance": []
    },
    "kernelspec": {
      "display_name": "Python 3",
      "name": "python3"
    },
    "language_info": {
      "name": "python"
    }
  },
  "nbformat": 4,
  "nbformat_minor": 0
}
