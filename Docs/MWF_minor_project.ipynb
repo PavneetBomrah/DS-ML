{
  "nbformat": 4,
  "nbformat_minor": 0,
  "metadata": {
    "colab": {
      "provenance": []
    },
    "kernelspec": {
      "name": "python3",
      "display_name": "Python 3"
    },
    "language_info": {
      "name": "python"
    }
  },
  "cells": [
    {
      "cell_type": "code",
      "execution_count": 1,
      "metadata": {
        "id": "0Y9nWOzt5BhN"
      },
      "outputs": [],
      "source": [
        "import os\n",
        "import zipfile\n",
        "\n",
        "# Set up Kaggle API key\n",
        "os.environ['KAGGLE_USERNAME'] = \"raman8877\"\n",
        "os.environ['KAGGLE_KEY'] = \"a7c57f39e9cbc4f4d907e41277b1a30c\"\n",
        "# {\"username\":\"raman8877\",\"key\":\"a7c57f39e9cbc4f4d907e41277b1a30c\"}\n"
      ]
    },
    {
      "cell_type": "code",
      "source": [
        "import os\n",
        "import pandas as pd\n",
        "import zipfile\n",
        "import seaborn as sns\n",
        "import matplotlib.pyplot as plt\n",
        "from sklearn.model_selection import train_test_split\n",
        "from sklearn.tree import DecisionTreeClassifier\n",
        "from sklearn.metrics import accuracy_score, classification_report\n",
        "\n",
        "# Step 1: Setup Kaggle API (Fill your credentials)\n",
        "os.environ['KAGGLE_USERNAME'] = \"your_kaggle_username\"\n",
        "os.environ['KAGGLE_KEY'] = \"your_kaggle_api_key\"\n",
        "\n",
        "# Step 2: Download Dataset\n",
        "!kaggle datasets download -d spscientist/students-performance-in-exams\n",
        "\n",
        "# Step 3: Unzip\n",
        "with zipfile.ZipFile(\"students-performance-in-exams.zip\", 'r') as zip_ref:\n",
        "    zip_ref.extractall(\"data\")\n",
        "\n",
        "# Step 4: Load Dataset\n",
        "df = pd.read_csv(\"data/StudentsPerformance.csv\")\n",
        "print(\"Data Loaded Successfully!\\n\", df.head())\n",
        "\n",
        "# Step 5: Feature Engineering\n",
        "df['average_score'] = (df['math score'] + df['reading score'] + df['writing score']) / 3\n",
        "df['pass/fail'] = df['average_score'].apply(lambda x: 1 if x >= 50 else 0)\n",
        "df = df.drop(['average_score'], axis=1)\n",
        "\n",
        "# Encode categorical variables\n",
        "df = pd.get_dummies(df, drop_first=True)\n",
        "\n",
        "# Step 6: Prepare features and target\n",
        "X = df.drop('pass/fail', axis=1)\n",
        "y = df['pass/fail']\n",
        "\n",
        "# Step 7: Train/Test Split\n",
        "X_train, X_test, y_train, y_test = train_test_split(X, y, test_size=0.2, random_state=42)\n",
        "\n",
        "# Step 8: Train Model\n",
        "model = DecisionTreeClassifier()\n",
        "model.fit(X_train, y_train)\n",
        "\n",
        "# Step 9: Predict and Evaluate\n",
        "y_pred = model.predict(X_test)\n",
        "print(\"\\nAccuracy:\", accuracy_score(y_test, y_pred))\n",
        "print(\"Classification Report:\\n\", classification_report(y_test, y_pred))\n",
        "\n",
        "# Step 10: Optional Visualization\n",
        "plt.figure(figsize=(8,6))\n",
        "sns.heatmap(df.corr(), annot=True, cmap=\"coolwarm\")\n",
        "plt.title(\"Feature Correlation Heatmap\")\n",
        "plt.show()\n"
      ],
      "metadata": {
        "id": "OdM5Wyo58A2q"
      },
      "execution_count": null,
      "outputs": []
    }
  ]
}