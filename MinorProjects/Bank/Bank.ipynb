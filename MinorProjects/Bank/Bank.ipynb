{
 "cells": [
  {
   "cell_type": "code",
   "execution_count": null,
   "id": "d9ee542a-1399-4a47-9433-cdc71073c1ae",
   "metadata": {},
   "outputs": [
    {
     "name": "stdout",
     "output_type": "stream",
     "text": [
      "\t\tWelcome to Apna Bank\n",
      "\n",
      "\n"
     ]
    }
   ],
   "source": [
    "#Real World virtual atm machine minor project\n",
    "import amt\n",
    "pin = 6969\n",
    "print(\"\\t\\tWelcome to Apna Bank\\n\\n\")\n",
    "if 'card'==input(\"Enter your card\"):\n",
    "    option = 0\n",
    "    if pin == int(input(\"Enter your Pin\")):\n",
    "        choice = 'y'\n",
    "        while choice == 'y':\n",
    "            print(\"Enter your task to perform:\\n\")\n",
    "            print(\"\\t 1) Check Balance\")\n",
    "            print(\"\\t 2) Deposit\")\n",
    "            print(\"\\t 3) Withdraw\")\n",
    "            print(\"\\t 0) Exit\\n\\n\\n\")\n",
    "            option = int(input(\"Enter your choice\"))\n",
    "            if option >= 0 and option <=4 :\n",
    "                match option:\n",
    "                    case 1:\n",
    "                        choice = 'y'\n",
    "                        balance = amt.amt\n",
    "                        print(\"Balance: \",balance,\"\\n\\n\\n\")\n",
    "                    case 2:\n",
    "                        choice = 'y'\n",
    "                        balance = amt.amt\n",
    "                        balance += int(input(\"Enter value to Deposit:\"))\n",
    "                        amt.amt = balance\n",
    "                        print(\"New Balance: \",balance,\"\\n\\n\\n\")\n",
    "                    case 3:\n",
    "                        choice = 'y'\n",
    "                        balance = amt.amt\n",
    "                        balance -= int(input(\"Enter value to Withdraw:\"))\n",
    "                        amt.amt = balance\n",
    "                        print(\"New Balance: \",balance,\"\\n\\n\\n\")\n",
    "                    case 0:\n",
    "                        choice = 'n'\n",
    "            else:\n",
    "                print(\"Invalid Choice retry\")\n",
    "    else:\n",
    "        print(\"Invalid Pin\")\n",
    "    \n",
    "else:\n",
    "    print(\"invalid card\")"
   ]
  }
 ],
 "metadata": {
  "kernelspec": {
   "display_name": "Python 3",
   "language": "python",
   "name": "python3"
  },
  "language_info": {
   "codemirror_mode": {
    "name": "ipython",
    "version": 3
   },
   "file_extension": ".py",
   "mimetype": "text/x-python",
   "name": "python",
   "nbconvert_exporter": "python",
   "pygments_lexer": "ipython3",
   "version": "3.13.1"
  }
 },
 "nbformat": 4,
 "nbformat_minor": 5
}
