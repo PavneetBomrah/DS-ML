{
 "cells": [
  {
   "cell_type": "code",
   "execution_count": 20,
   "id": "2fec463b-72f4-4152-9901-de2b45be5e2d",
   "metadata": {},
   "outputs": [
    {
     "name": "stdout",
     "output_type": "stream",
     "text": [
      "\t\t\tWelcome to Gareeb Khana\n"
     ]
    },
    {
     "name": "stdin",
     "output_type": "stream",
     "text": [
      "Enter Card card\n",
      "Enter Pin 1234\n",
      "Enter the task to perform \n",
      "\t1. Withdraw\n",
      "\t2. Deposit\n",
      "\t3. Show Balance\n",
      "\t0. Exit\n",
      "\t 0\n"
     ]
    }
   ],
   "source": [
    "#Real World virtual atm machine minor project using \n",
    "def atmMachine():\n",
    "    balance = 0.0\n",
    "    def withdraw():\n",
    "        nonlocal balance\n",
    "        balance = balance - int(input(\"Enter amount to withdraw\"))\n",
    "        print(f\"your new balance is : {balance:.2f}\")\n",
    "    def deposit():\n",
    "        nonlocal balance\n",
    "        balance = balance + int(input(\"Enter amount to deposit\"))\n",
    "        print(f\"your new balance is : {balance:.2f}\")\n",
    "    def display():\n",
    "        print(f\"your balance is : {balance:.2f}\")\n",
    "    print(\"\\t\\t\\tWelcome to Gareeb Khana\")\n",
    "\n",
    "    if input(\"Enter Card\") == \"card\" and input(\"Enter Pin\") == \"1234\":\n",
    "        while True:\n",
    "            choice = int(input(\"Enter the task to perform \\n\\t1. Withdraw\\n\\t2. Deposit\\n\\t3. Show Balance\\n\\t0. Exit\\n\\t\"))\n",
    "            match choice:\n",
    "                case 1:\n",
    "                    withdraw()\n",
    "                case 2:\n",
    "                    deposit()\n",
    "                case 3:\n",
    "                    display()\n",
    "                case 0:\n",
    "                    break\n",
    "                case _:\n",
    "                    print(\"Invalid Choice\")\n",
    "    else:\n",
    "        print(\"Invalid Card Credentials\")\n",
    "atmMachine()"
   ]
  }
 ],
 "metadata": {
  "kernelspec": {
   "display_name": "Python 3 (ipykernel)",
   "language": "python",
   "name": "python3"
  },
  "language_info": {
   "codemirror_mode": {
    "name": "ipython",
    "version": 3
   },
   "file_extension": ".py",
   "mimetype": "text/x-python",
   "name": "python",
   "nbconvert_exporter": "python",
   "pygments_lexer": "ipython3",
   "version": "3.13.1"
  }
 },
 "nbformat": 4,
 "nbformat_minor": 5
}
