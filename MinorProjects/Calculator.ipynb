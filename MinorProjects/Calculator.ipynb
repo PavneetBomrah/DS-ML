{
 "cells": [
  {
   "cell_type": "code",
   "execution_count": 26,
   "id": "e9e126f2-142c-4fcf-848c-22964d51d96f",
   "metadata": {},
   "outputs": [
    {
     "name": "stdout",
     "output_type": "stream",
     "text": [
      "\t\tCalculator\n",
      "\n",
      "\n",
      "Enter your task to perform (+,-,*,/,'0 to exit'):\n"
     ]
    },
    {
     "name": "stdin",
     "output_type": "stream",
     "text": [
      "Enter First Number: 5\n",
      "Enter your choice(+,-,*,/) *\n",
      "Enter Second Number: 5\n"
     ]
    },
    {
     "name": "stdout",
     "output_type": "stream",
     "text": [
      "5 * 5 = 25\n"
     ]
    },
    {
     "name": "stdin",
     "output_type": "stream",
     "text": [
      "Continue? (y,n) y\n"
     ]
    },
    {
     "name": "stdout",
     "output_type": "stream",
     "text": [
      "Enter your task to perform (+,-,*,/,'0 to exit'):\n"
     ]
    },
    {
     "name": "stdin",
     "output_type": "stream",
     "text": [
      "Enter First Number: n'\n"
     ]
    },
    {
     "ename": "ValueError",
     "evalue": "invalid literal for int() with base 10: \"n'\"",
     "output_type": "error",
     "traceback": [
      "\u001b[31m---------------------------------------------------------------------------\u001b[39m",
      "\u001b[31mValueError\u001b[39m                                Traceback (most recent call last)",
      "\u001b[36mCell\u001b[39m\u001b[36m \u001b[39m\u001b[32mIn[26]\u001b[39m\u001b[32m, line 7\u001b[39m\n\u001b[32m      5\u001b[39m \u001b[38;5;28;01mwhile\u001b[39;00m choice == \u001b[33m'\u001b[39m\u001b[33my\u001b[39m\u001b[33m'\u001b[39m:\n\u001b[32m      6\u001b[39m     \u001b[38;5;28mprint\u001b[39m(\u001b[33m\"\u001b[39m\u001b[33mEnter your task to perform (+,-,*,/,\u001b[39m\u001b[33m'\u001b[39m\u001b[33m0 to exit\u001b[39m\u001b[33m'\u001b[39m\u001b[33m):\u001b[39m\u001b[33m\"\u001b[39m)\n\u001b[32m----> \u001b[39m\u001b[32m7\u001b[39m     num1 = \u001b[38;5;28;43mint\u001b[39;49m\u001b[43m(\u001b[49m\u001b[38;5;28;43minput\u001b[39;49m\u001b[43m(\u001b[49m\u001b[33;43m\"\u001b[39;49m\u001b[33;43mEnter First Number:\u001b[39;49m\u001b[33;43m\"\u001b[39;49m\u001b[43m)\u001b[49m\u001b[43m)\u001b[49m\n\u001b[32m      8\u001b[39m     option = \u001b[38;5;28minput\u001b[39m(\u001b[33m\"\u001b[39m\u001b[33mEnter your choice(+,-,*,/)\u001b[39m\u001b[33m\"\u001b[39m)\n\u001b[32m      9\u001b[39m     num2 = \u001b[38;5;28mint\u001b[39m(\u001b[38;5;28minput\u001b[39m(\u001b[33m\"\u001b[39m\u001b[33mEnter Second Number:\u001b[39m\u001b[33m\"\u001b[39m))\n",
      "\u001b[31mValueError\u001b[39m: invalid literal for int() with base 10: \"n'\""
     ]
    }
   ],
   "source": [
    "#Calculator minor project\n",
    "\n",
    "print(\"\\t\\tCalculator\\n\\n\")\n",
    "choice = 'y'\n",
    "while choice == 'y':\n",
    "    print(\"Enter your task to perform (+,-,*,/,'0 to exit'):\")\n",
    "    num1 = int(input(\"Enter First Number:\"))\n",
    "    option = input(\"Enter your choice(+,-,*,/)\")\n",
    "    num2 = int(input(\"Enter Second Number:\"))\n",
    "    list = ['+','-','*','/','0']\n",
    "    if option in list:\n",
    "        match option:\n",
    "            case '+':\n",
    "                choice = 'y'\n",
    "                print(num1,option,num2,\"=\",num1 + num2)\n",
    "            case '-':\n",
    "                choice = 'y'\n",
    "                print(num1,option,num2,\"=\",num1 - num2)\n",
    "            case '*':\n",
    "                choice = 'y'\n",
    "                print(num1,option,num2,\"=\",num1 * num2)\n",
    "            case '/':\n",
    "                choice = 'y'\n",
    "                if num2 != 0: \n",
    "                    print(num1,option,num2,\"=\",num1 / num2)\n",
    "                else:\n",
    "                    print(\"Denominator Can't Be 0\")            \n",
    "    else:\n",
    "        print(\"Invalid Choice retry\")\n",
    "    choice = input(\"Continue? (y,n)\")\n"
   ]
  }
 ],
 "metadata": {
  "kernelspec": {
   "display_name": "Python 3 (ipykernel)",
   "language": "python",
   "name": "python3"
  },
  "language_info": {
   "codemirror_mode": {
    "name": "ipython",
    "version": 3
   },
   "file_extension": ".py",
   "mimetype": "text/x-python",
   "name": "python",
   "nbconvert_exporter": "python",
   "pygments_lexer": "ipython3",
   "version": "3.13.1"
  }
 },
 "nbformat": 4,
 "nbformat_minor": 5
}
